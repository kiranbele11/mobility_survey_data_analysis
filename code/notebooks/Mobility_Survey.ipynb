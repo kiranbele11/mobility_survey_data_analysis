{
 "cells": [
  {
   "cell_type": "code",
   "execution_count": 1,
   "metadata": {
    "id": "EZmD7b1P2mGz"
   },
   "outputs": [],
   "source": [
    "# Reading the data into a dataframe\n",
    "import pandas as pd\n",
    "import numpy as np\n",
    "\n",
    "df = pd.read_excel('CEEW - Mobility Survey Data 11Jan21.xlsx', 'Results')"
   ]
  },
  {
   "cell_type": "code",
   "execution_count": null,
   "metadata": {
    "colab": {
     "base_uri": "https://localhost:8080/"
    },
    "id": "OMAjN2wq2wl4",
    "outputId": "3781241f-3381-4019-c1df-02be757f35a3"
   },
   "outputs": [
    {
     "data": {
      "text/plain": [
       "Index(['serial', 'zone', 'tier', 'city', 'oil_first', 'oil_second',\n",
       "       'oil_third', 'cfuel_support', 'cfuel_confidence_can',\n",
       "       'cfuel_confidence_will', 'oiluse_omc1', 'oiluse_ptax',\n",
       "       'oiluse_fueleff1', 'oiluse_alternatives1', 'oiluse_omc2', 'oiluse_rtax',\n",
       "       'oiluse_fueleff2', 'oiluse_alternatives2', 'mode_walk', 'mode_bicycle',\n",
       "       'mode_corporate', 'mode_auto', 'mode_sharedauto', 'mode_pt',\n",
       "       'mode_pool', 'mode_2w', 'mode_4w', 'mode_cab', 'roaduse_space',\n",
       "       'roaduse_congestion', 'roaduse_parking', 'ev_familiar', 'ev_buy',\n",
       "       'ev_policies', 'ev_adv_opex', 'ev_adv_climate', 'ev_adv_pollution',\n",
       "       'ev_adv_others', 'ev_adv_others1', 'ev_dis_cost', 'ev_dis_charging',\n",
       "       'ev_dis_infra', 'ev_dis_choice', 'ev_dis_others', 'ev_dis_others1',\n",
       "       'pt_distance', 'pt_walk', 'pt_paratransit', 'pt_private', 'pt_other',\n",
       "       'pt_family', 'ptbarr_affordability', 'ptbarr_freq',\n",
       "       'ptbarr_qualityinfra', 'ptbarr_connectivity', 'ptbarr_distance',\n",
       "       'ptbarr_info', 'ptbarr_duration', 'ptbarr_safety', 'ptbarr_pollution',\n",
       "       'ptbarr_seamless', 'ptpv_cheap', 'sm_carownership', 'sm_rideshare',\n",
       "       'sm_ridesharefreq', 'sm_carpool', 'sm_carpoolfreq', 'occupation',\n",
       "       'commute_distance', 'commute_time', 'car_cost', 'car_brand',\n",
       "       'car_space', 'car_performance', 'car_design', 'car_mileage',\n",
       "       'car_comfort', 'car_service', 'car_resale', 'commute_pollution',\n",
       "       'commute_congestion', 'commute_pollution.1', 'commute_climate',\n",
       "       'lastmile_auto', 'lastmile_infra', 'age', 'gender'],\n",
       "      dtype='object')"
      ]
     },
     "execution_count": 8,
     "metadata": {},
     "output_type": "execute_result"
    }
   ],
   "source": [
    "# Checking the columns in the table\n",
    "df.columns"
   ]
  },
  {
   "cell_type": "markdown",
   "metadata": {
    "id": "jXT1XhEO3Ipu"
   },
   "source": [
    "### On the first glance, I think I am going to try to answer the following questions \n",
    "1. How many men vs women participated in the survey?\n",
    "2. How many people from different tier cities participated in the survey? \n",
    "3. What is the age distribution of people who participated in the survey? "
   ]
  },
  {
   "cell_type": "markdown",
   "metadata": {
    "id": "uz2NmVK14ajs"
   },
   "source": [
    "#1 How many men vs women participated in the survey? "
   ]
  },
  {
   "cell_type": "code",
   "execution_count": null,
   "metadata": {
    "id": "EIT0tM9f2ypG"
   },
   "outputs": [],
   "source": [
    "df_gender = df.groupby('gender').count()"
   ]
  },
  {
   "cell_type": "code",
   "execution_count": null,
   "metadata": {
    "colab": {
     "base_uri": "https://localhost:8080/",
     "height": 191
    },
    "id": "0kB9OKIZ3mcd",
    "outputId": "f6eb2086-15ca-4092-c13a-fdc9d24671a5"
   },
   "outputs": [
    {
     "data": {
      "text/html": [
       "<div>\n",
       "<style scoped>\n",
       "    .dataframe tbody tr th:only-of-type {\n",
       "        vertical-align: middle;\n",
       "    }\n",
       "\n",
       "    .dataframe tbody tr th {\n",
       "        vertical-align: top;\n",
       "    }\n",
       "\n",
       "    .dataframe thead th {\n",
       "        text-align: right;\n",
       "    }\n",
       "</style>\n",
       "<table border=\"1\" class=\"dataframe\">\n",
       "  <thead>\n",
       "    <tr style=\"text-align: right;\">\n",
       "      <th></th>\n",
       "      <th>serial</th>\n",
       "      <th>zone</th>\n",
       "      <th>tier</th>\n",
       "      <th>city</th>\n",
       "      <th>oil_first</th>\n",
       "      <th>oil_second</th>\n",
       "      <th>oil_third</th>\n",
       "      <th>cfuel_support</th>\n",
       "      <th>cfuel_confidence_can</th>\n",
       "      <th>cfuel_confidence_will</th>\n",
       "      <th>oiluse_omc1</th>\n",
       "      <th>oiluse_ptax</th>\n",
       "      <th>oiluse_fueleff1</th>\n",
       "      <th>oiluse_alternatives1</th>\n",
       "      <th>oiluse_omc2</th>\n",
       "      <th>oiluse_rtax</th>\n",
       "      <th>oiluse_fueleff2</th>\n",
       "      <th>oiluse_alternatives2</th>\n",
       "      <th>mode_walk</th>\n",
       "      <th>mode_bicycle</th>\n",
       "      <th>mode_corporate</th>\n",
       "      <th>mode_auto</th>\n",
       "      <th>mode_sharedauto</th>\n",
       "      <th>mode_pt</th>\n",
       "      <th>mode_pool</th>\n",
       "      <th>mode_2w</th>\n",
       "      <th>mode_4w</th>\n",
       "      <th>mode_cab</th>\n",
       "      <th>roaduse_space</th>\n",
       "      <th>roaduse_congestion</th>\n",
       "      <th>roaduse_parking</th>\n",
       "      <th>ev_familiar</th>\n",
       "      <th>ev_buy</th>\n",
       "      <th>ev_policies</th>\n",
       "      <th>ev_adv_opex</th>\n",
       "      <th>ev_adv_climate</th>\n",
       "      <th>ev_adv_pollution</th>\n",
       "      <th>ev_adv_others</th>\n",
       "      <th>ev_adv_others1</th>\n",
       "      <th>ev_dis_cost</th>\n",
       "      <th>...</th>\n",
       "      <th>pt_walk</th>\n",
       "      <th>pt_paratransit</th>\n",
       "      <th>pt_private</th>\n",
       "      <th>pt_other</th>\n",
       "      <th>pt_family</th>\n",
       "      <th>ptbarr_affordability</th>\n",
       "      <th>ptbarr_freq</th>\n",
       "      <th>ptbarr_qualityinfra</th>\n",
       "      <th>ptbarr_connectivity</th>\n",
       "      <th>ptbarr_distance</th>\n",
       "      <th>ptbarr_info</th>\n",
       "      <th>ptbarr_duration</th>\n",
       "      <th>ptbarr_safety</th>\n",
       "      <th>ptbarr_pollution</th>\n",
       "      <th>ptbarr_seamless</th>\n",
       "      <th>ptpv_cheap</th>\n",
       "      <th>sm_carownership</th>\n",
       "      <th>sm_rideshare</th>\n",
       "      <th>sm_ridesharefreq</th>\n",
       "      <th>sm_carpool</th>\n",
       "      <th>sm_carpoolfreq</th>\n",
       "      <th>occupation</th>\n",
       "      <th>commute_distance</th>\n",
       "      <th>commute_time</th>\n",
       "      <th>car_cost</th>\n",
       "      <th>car_brand</th>\n",
       "      <th>car_space</th>\n",
       "      <th>car_performance</th>\n",
       "      <th>car_design</th>\n",
       "      <th>car_mileage</th>\n",
       "      <th>car_comfort</th>\n",
       "      <th>car_service</th>\n",
       "      <th>car_resale</th>\n",
       "      <th>commute_pollution</th>\n",
       "      <th>commute_congestion</th>\n",
       "      <th>commute_pollution.1</th>\n",
       "      <th>commute_climate</th>\n",
       "      <th>lastmile_auto</th>\n",
       "      <th>lastmile_infra</th>\n",
       "      <th>age</th>\n",
       "    </tr>\n",
       "    <tr>\n",
       "      <th>gender</th>\n",
       "      <th></th>\n",
       "      <th></th>\n",
       "      <th></th>\n",
       "      <th></th>\n",
       "      <th></th>\n",
       "      <th></th>\n",
       "      <th></th>\n",
       "      <th></th>\n",
       "      <th></th>\n",
       "      <th></th>\n",
       "      <th></th>\n",
       "      <th></th>\n",
       "      <th></th>\n",
       "      <th></th>\n",
       "      <th></th>\n",
       "      <th></th>\n",
       "      <th></th>\n",
       "      <th></th>\n",
       "      <th></th>\n",
       "      <th></th>\n",
       "      <th></th>\n",
       "      <th></th>\n",
       "      <th></th>\n",
       "      <th></th>\n",
       "      <th></th>\n",
       "      <th></th>\n",
       "      <th></th>\n",
       "      <th></th>\n",
       "      <th></th>\n",
       "      <th></th>\n",
       "      <th></th>\n",
       "      <th></th>\n",
       "      <th></th>\n",
       "      <th></th>\n",
       "      <th></th>\n",
       "      <th></th>\n",
       "      <th></th>\n",
       "      <th></th>\n",
       "      <th></th>\n",
       "      <th></th>\n",
       "      <th></th>\n",
       "      <th></th>\n",
       "      <th></th>\n",
       "      <th></th>\n",
       "      <th></th>\n",
       "      <th></th>\n",
       "      <th></th>\n",
       "      <th></th>\n",
       "      <th></th>\n",
       "      <th></th>\n",
       "      <th></th>\n",
       "      <th></th>\n",
       "      <th></th>\n",
       "      <th></th>\n",
       "      <th></th>\n",
       "      <th></th>\n",
       "      <th></th>\n",
       "      <th></th>\n",
       "      <th></th>\n",
       "      <th></th>\n",
       "      <th></th>\n",
       "      <th></th>\n",
       "      <th></th>\n",
       "      <th></th>\n",
       "      <th></th>\n",
       "      <th></th>\n",
       "      <th></th>\n",
       "      <th></th>\n",
       "      <th></th>\n",
       "      <th></th>\n",
       "      <th></th>\n",
       "      <th></th>\n",
       "      <th></th>\n",
       "      <th></th>\n",
       "      <th></th>\n",
       "      <th></th>\n",
       "      <th></th>\n",
       "      <th></th>\n",
       "      <th></th>\n",
       "      <th></th>\n",
       "      <th></th>\n",
       "    </tr>\n",
       "  </thead>\n",
       "  <tbody>\n",
       "    <tr>\n",
       "      <th>Female</th>\n",
       "      <td>968</td>\n",
       "      <td>968</td>\n",
       "      <td>968</td>\n",
       "      <td>968</td>\n",
       "      <td>967</td>\n",
       "      <td>967</td>\n",
       "      <td>967</td>\n",
       "      <td>968</td>\n",
       "      <td>432</td>\n",
       "      <td>537</td>\n",
       "      <td>431</td>\n",
       "      <td>431</td>\n",
       "      <td>431</td>\n",
       "      <td>431</td>\n",
       "      <td>537</td>\n",
       "      <td>537</td>\n",
       "      <td>537</td>\n",
       "      <td>537</td>\n",
       "      <td>720</td>\n",
       "      <td>49</td>\n",
       "      <td>69</td>\n",
       "      <td>302</td>\n",
       "      <td>182</td>\n",
       "      <td>541</td>\n",
       "      <td>91</td>\n",
       "      <td>417</td>\n",
       "      <td>205</td>\n",
       "      <td>203</td>\n",
       "      <td>968</td>\n",
       "      <td>968</td>\n",
       "      <td>968</td>\n",
       "      <td>968</td>\n",
       "      <td>968</td>\n",
       "      <td>968</td>\n",
       "      <td>968</td>\n",
       "      <td>968</td>\n",
       "      <td>968</td>\n",
       "      <td>62</td>\n",
       "      <td>62</td>\n",
       "      <td>968</td>\n",
       "      <td>...</td>\n",
       "      <td>376</td>\n",
       "      <td>149</td>\n",
       "      <td>36</td>\n",
       "      <td>1</td>\n",
       "      <td>423</td>\n",
       "      <td>206</td>\n",
       "      <td>452</td>\n",
       "      <td>556</td>\n",
       "      <td>149</td>\n",
       "      <td>107</td>\n",
       "      <td>59</td>\n",
       "      <td>299</td>\n",
       "      <td>207</td>\n",
       "      <td>128</td>\n",
       "      <td>416</td>\n",
       "      <td>968</td>\n",
       "      <td>968</td>\n",
       "      <td>205</td>\n",
       "      <td>61</td>\n",
       "      <td>205</td>\n",
       "      <td>75</td>\n",
       "      <td>968</td>\n",
       "      <td>669</td>\n",
       "      <td>669</td>\n",
       "      <td>8</td>\n",
       "      <td>3</td>\n",
       "      <td>7</td>\n",
       "      <td>4</td>\n",
       "      <td>2</td>\n",
       "      <td>11</td>\n",
       "      <td>6</td>\n",
       "      <td>1</td>\n",
       "      <td>0</td>\n",
       "      <td>968</td>\n",
       "      <td>968</td>\n",
       "      <td>968</td>\n",
       "      <td>968</td>\n",
       "      <td>67</td>\n",
       "      <td>67</td>\n",
       "      <td>968</td>\n",
       "    </tr>\n",
       "    <tr>\n",
       "      <th>Male</th>\n",
       "      <td>2714</td>\n",
       "      <td>2714</td>\n",
       "      <td>2714</td>\n",
       "      <td>2714</td>\n",
       "      <td>2714</td>\n",
       "      <td>2714</td>\n",
       "      <td>2714</td>\n",
       "      <td>2714</td>\n",
       "      <td>1387</td>\n",
       "      <td>1327</td>\n",
       "      <td>1387</td>\n",
       "      <td>1387</td>\n",
       "      <td>1387</td>\n",
       "      <td>1387</td>\n",
       "      <td>1327</td>\n",
       "      <td>1327</td>\n",
       "      <td>1327</td>\n",
       "      <td>1327</td>\n",
       "      <td>1974</td>\n",
       "      <td>300</td>\n",
       "      <td>212</td>\n",
       "      <td>622</td>\n",
       "      <td>451</td>\n",
       "      <td>1490</td>\n",
       "      <td>238</td>\n",
       "      <td>1863</td>\n",
       "      <td>771</td>\n",
       "      <td>415</td>\n",
       "      <td>2714</td>\n",
       "      <td>2714</td>\n",
       "      <td>2714</td>\n",
       "      <td>2714</td>\n",
       "      <td>2714</td>\n",
       "      <td>2714</td>\n",
       "      <td>2714</td>\n",
       "      <td>2714</td>\n",
       "      <td>2714</td>\n",
       "      <td>272</td>\n",
       "      <td>272</td>\n",
       "      <td>2714</td>\n",
       "      <td>...</td>\n",
       "      <td>856</td>\n",
       "      <td>291</td>\n",
       "      <td>150</td>\n",
       "      <td>3</td>\n",
       "      <td>995</td>\n",
       "      <td>676</td>\n",
       "      <td>1188</td>\n",
       "      <td>1137</td>\n",
       "      <td>475</td>\n",
       "      <td>285</td>\n",
       "      <td>205</td>\n",
       "      <td>957</td>\n",
       "      <td>492</td>\n",
       "      <td>281</td>\n",
       "      <td>1077</td>\n",
       "      <td>2714</td>\n",
       "      <td>2714</td>\n",
       "      <td>771</td>\n",
       "      <td>210</td>\n",
       "      <td>771</td>\n",
       "      <td>412</td>\n",
       "      <td>2714</td>\n",
       "      <td>2611</td>\n",
       "      <td>2611</td>\n",
       "      <td>44</td>\n",
       "      <td>12</td>\n",
       "      <td>11</td>\n",
       "      <td>33</td>\n",
       "      <td>17</td>\n",
       "      <td>72</td>\n",
       "      <td>45</td>\n",
       "      <td>20</td>\n",
       "      <td>1</td>\n",
       "      <td>2714</td>\n",
       "      <td>2714</td>\n",
       "      <td>2714</td>\n",
       "      <td>2714</td>\n",
       "      <td>227</td>\n",
       "      <td>227</td>\n",
       "      <td>2714</td>\n",
       "    </tr>\n",
       "  </tbody>\n",
       "</table>\n",
       "<p>2 rows × 86 columns</p>\n",
       "</div>"
      ],
      "text/plain": [
       "        serial  zone  tier  ...  lastmile_auto  lastmile_infra   age\n",
       "gender                      ...                                     \n",
       "Female     968   968   968  ...             67              67   968\n",
       "Male      2714  2714  2714  ...            227             227  2714\n",
       "\n",
       "[2 rows x 86 columns]"
      ]
     },
     "execution_count": 17,
     "metadata": {},
     "output_type": "execute_result"
    }
   ],
   "source": [
    "df_gender"
   ]
  },
  {
   "cell_type": "code",
   "execution_count": null,
   "metadata": {
    "colab": {
     "base_uri": "https://localhost:8080/",
     "height": 445
    },
    "id": "eCsOIMV03nW0",
    "outputId": "2879a083-c7c7-4919-83fb-0a7666c6650b"
   },
   "outputs": [
    {
     "data": {
      "text/plain": [
       "<BarContainer object of 2 artists>"
      ]
     },
     "execution_count": 21,
     "metadata": {},
     "output_type": "execute_result"
    },
    {
     "data": {
      "image/png": "[encoded data removed]",
      "text/plain": [
       "<Figure size 720x504 with 1 Axes>"
      ]
     },
     "metadata": {
      "needs_background": "light"
     },
     "output_type": "display_data"
    }
   ],
   "source": [
    "import matplotlib.pyplot as plt\n",
    "plt.figure(figsize = (10,7))\n",
    "plt.bar(df_gender.index, df_gender['serial'])"
   ]
  },
  {
   "cell_type": "markdown",
   "metadata": {
    "id": "D90QD68t4F-b"
   },
   "source": [
    "## Given that the majority of the participants are Male, the survery results will tend to be biased towards men"
   ]
  },
  {
   "cell_type": "markdown",
   "metadata": {
    "id": "uKbDMXTi4ckX"
   },
   "source": [
    "#2 How many people from different tier cities participated in the survey?"
   ]
  },
  {
   "cell_type": "code",
   "execution_count": null,
   "metadata": {
    "id": "hWXU4KP93w5W"
   },
   "outputs": [],
   "source": [
    "df_tier = df.groupby('tier').count()"
   ]
  },
  {
   "cell_type": "code",
   "execution_count": null,
   "metadata": {
    "colab": {
     "base_uri": "https://localhost:8080/",
     "height": 445
    },
    "id": "X0CWQxIJ4pDn",
    "outputId": "ce0ba039-5d9f-41f6-c0ee-3efcd51ac90b"
   },
   "outputs": [
    {
     "data": {
      "text/plain": [
       "<BarContainer object of 3 artists>"
      ]
     },
     "execution_count": 23,
     "metadata": {},
     "output_type": "execute_result"
    },
    {
     "data": {
      "image/png": "[encoded data removed]",
      "text/plain": [
       "<Figure size 720x504 with 1 Axes>"
      ]
     },
     "metadata": {
      "needs_background": "light"
     },
     "output_type": "display_data"
    }
   ],
   "source": [
    "plt.figure(figsize = (10,7))\n",
    "plt.bar(df_tier.index, df_tier['serial'])"
   ]
  },
  {
   "cell_type": "code",
   "execution_count": null,
   "metadata": {
    "colab": {
     "base_uri": "https://localhost:8080/",
     "height": 623
    },
    "id": "toeOHM654tYZ",
    "outputId": "bde1d7e8-9a7c-45ef-bcee-3c2f403b551b"
   },
   "outputs": [
    {
     "data": {
      "text/plain": [
       "<matplotlib.axes._subplots.AxesSubplot at 0x7f4f0bd08e90>"
      ]
     },
     "execution_count": 36,
     "metadata": {},
     "output_type": "execute_result"
    },
    {
     "data": {
      "image/png": "[encoded data removed]",
      "text/plain": [
       "<Figure size 1080x720 with 1 Axes>"
      ]
     },
     "metadata": {
      "needs_background": "light"
     },
     "output_type": "display_data"
    }
   ],
   "source": [
    "# Some random descriptive analysis\n",
    "\n",
    "import seaborn as sns\n",
    "plt.figure(figsize = (15,10))\n",
    "sns.histplot(data = df, \n",
    "              x = df['roaduse_space'], hue = df['gender'], multiple = \"dodge\", shrink = 0.8)"
   ]
  },
  {
   "cell_type": "code",
   "execution_count": null,
   "metadata": {
    "colab": {
     "base_uri": "https://localhost:8080/",
     "height": 623
    },
    "id": "457-Nb38Ev6Z",
    "outputId": "8d6b5f19-8e29-4f68-d840-0be86acfede2"
   },
   "outputs": [
    {
     "data": {
      "text/plain": [
       "<matplotlib.axes._subplots.AxesSubplot at 0x7f4f0bc38bd0>"
      ]
     },
     "execution_count": 37,
     "metadata": {},
     "output_type": "execute_result"
    },
    {
     "data": {
      "image/png": "[encoded data removed]",
      "text/plain": [
       "<Figure size 1080x720 with 1 Axes>"
      ]
     },
     "metadata": {
      "needs_background": "light"
     },
     "output_type": "display_data"
    }
   ],
   "source": [
    "plt.figure(figsize = (15,10))\n",
    "sns.histplot(data = df, \n",
    "              x = df['roaduse_congestion'], hue = df['gender'], multiple = \"dodge\", shrink = 0.8)"
   ]
  },
  {
   "cell_type": "code",
   "execution_count": null,
   "metadata": {
    "colab": {
     "base_uri": "https://localhost:8080/",
     "height": 623
    },
    "id": "-vWxJPYVGBsw",
    "outputId": "e341fd56-d694-48f5-f409-3803b22820e9"
   },
   "outputs": [
    {
     "data": {
      "text/plain": [
       "<matplotlib.axes._subplots.AxesSubplot at 0x7f4f0bbc6850>"
      ]
     },
     "execution_count": 38,
     "metadata": {},
     "output_type": "execute_result"
    },
    {
     "data": {
      "image/png": "[encoded data removed]",
      "text/plain": [
       "<Figure size 1080x720 with 1 Axes>"
      ]
     },
     "metadata": {
      "needs_background": "light"
     },
     "output_type": "display_data"
    }
   ],
   "source": [
    "plt.figure(figsize = (15,10))\n",
    "sns.histplot(data = df, \n",
    "              x = df['roaduse_parking'], hue = df['gender'], multiple = \"dodge\", shrink = 0.8)"
   ]
  },
  {
   "cell_type": "code",
   "execution_count": null,
   "metadata": {
    "id": "tcwtuxENGKb9"
   },
   "outputs": [],
   "source": []
  }
 ],
 "metadata": {
  "colab": {
   "provenance": []
  },
  "kernelspec": {
   "display_name": "Python 3 (ipykernel)",
   "language": "python",
   "name": "python3"
  },
  "language_info": {
   "codemirror_mode": {
    "name": "ipython",
    "version": 3
   },
   "file_extension": ".py",
   "mimetype": "text/x-python",
   "name": "python",
   "nbconvert_exporter": "python",
   "pygments_lexer": "ipython3",
   "version": "3.9.12"
  }
 },
 "nbformat": 4,
 "nbformat_minor": 1
}
